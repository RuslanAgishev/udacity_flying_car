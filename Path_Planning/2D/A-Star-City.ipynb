{
 "cells": [
  {
   "cell_type": "markdown",
   "metadata": {},
   "source": [
    "## Finding Your Way In The City\n",
    "\n",
    "In this notebook you'll combine the work of previous exercises to calculate a minimal series of waypoints in order to get from a start location to a goal location.\n",
    "\n",
    "You'll reuse and modify your algorithms from:\n",
    "\n",
    "- A*\n",
    "- Configuration Space\n",
    "- Collinearity and/or Bresenham"
   ]
  },
  {
   "cell_type": "code",
   "execution_count": 2,
   "metadata": {},
   "outputs": [],
   "source": [
    "import numpy as np\n",
    "import matplotlib.pyplot as plt\n",
    "from grid import create_grid\n",
    "from planning import a_star\n",
    "\n",
    "%matplotlib inline\n",
    "\n",
    "#from bresenham import bresenham"
   ]
  },
  {
   "cell_type": "code",
   "execution_count": 3,
   "metadata": {},
   "outputs": [],
   "source": [
    "plt.rcParams['figure.figsize'] = 12, 12"
   ]
  },
  {
   "cell_type": "markdown",
   "metadata": {},
   "source": [
    "You'll notice we've imported `create_grid`, and `a_star`. These are functions you've implemented in previous exercises, and here you'll use them to create a map and find a path from a starting position to a goal position.\n",
    "\n",
    "To read the function signature and documentation execute `?` followed by the function name in a cell. In the example below we'll check the documentation for `create_grid`."
   ]
  },
  {
   "cell_type": "code",
   "execution_count": 5,
   "metadata": {},
   "outputs": [],
   "source": [
    "?create_grid"
   ]
  },
  {
   "cell_type": "markdown",
   "metadata": {},
   "source": [
    "If you would like to alter these implementations, you can modify [grid.py](/edit/grid.py) and [planning.py](/edit/planning.py) in the current directory."
   ]
  },
  {
   "cell_type": "code",
   "execution_count": 6,
   "metadata": {},
   "outputs": [
    {
     "name": "stdout",
     "output_type": "stream",
     "text": [
      "[[-310.2389   -439.2315     85.5         5.          5.         85.5     ]\n",
      " [-300.2389   -439.2315     85.5         5.          5.         85.5     ]\n",
      " [-290.2389   -439.2315     85.5         5.          5.         85.5     ]\n",
      " ...\n",
      " [ 257.8061    425.1645      1.75852     1.292725    1.292725    1.944791]\n",
      " [ 293.9967    368.3391      3.557666    1.129456    1.129456    3.667319]\n",
      " [ 281.5162    354.4156      4.999351    1.053772    1.053772    4.950246]]\n"
     ]
    }
   ],
   "source": [
    "# This is the same obstacle data from the previous lesson.\n",
    "filename = 'colliders.csv'\n",
    "data = np.loadtxt(filename, delimiter=',', dtype='Float64', skiprows=2)\n",
    "print(data)"
   ]
  },
  {
   "cell_type": "code",
   "execution_count": 7,
   "metadata": {},
   "outputs": [],
   "source": [
    "# Static drone altitude (meters)\n",
    "drone_altitude = 5\n",
    "\n",
    "# Minimum distance stay away from obstacle (meters)\n",
    "safe_distance = 3"
   ]
  },
  {
   "cell_type": "code",
   "execution_count": 8,
   "metadata": {},
   "outputs": [],
   "source": [
    "# TODO: Use `create_grid` to create a grid configuration space of\n",
    "# the obstacle data.\n",
    "grid = create_grid(data, drone_altitude, safe_distance)"
   ]
  },
  {
   "cell_type": "code",
   "execution_count": 9,
   "metadata": {},
   "outputs": [
    {
     "data": {
      "image/png": "[encoded data removed]",
      "text/plain": [
       "<Figure size 864x864 with 1 Axes>"
      ]
     },
     "metadata": {
      "needs_background": "light"
     },
     "output_type": "display_data"
    }
   ],
   "source": [
    "# equivalent to\n",
    "# plt.imshow(np.flip(grid, 0))\n",
    "plt.imshow(grid, origin='lower') \n",
    "\n",
    "plt.xlabel('EAST')\n",
    "plt.ylabel('NORTH')\n",
    "plt.show()"
   ]
  },
  {
   "cell_type": "markdown",
   "metadata": {},
   "source": [
    "Next you'll compute the path from a start location to a goal location using A*."
   ]
  },
  {
   "cell_type": "markdown",
   "metadata": {},
   "source": [
    "Start and goal coordinates in *(north, east)*."
   ]
  },
  {
   "cell_type": "code",
   "execution_count": 10,
   "metadata": {},
   "outputs": [],
   "source": [
    "start_ne = (25,  100)\n",
    "goal_ne = (750., 370.)"
   ]
  },
  {
   "cell_type": "markdown",
   "metadata": {},
   "source": [
    "Write a heuristic function."
   ]
  },
  {
   "cell_type": "code",
   "execution_count": 11,
   "metadata": {},
   "outputs": [],
   "source": [
    "def heuristic(p, goal, mode='euclid'):\n",
    "    p = np.array(p); goal = np.array(goal)\n",
    "    if mode=='euclid':\n",
    "        h = np.sqrt( (p[0] - goal[0])**2 + (p[1]-goal[1])**2 )\n",
    "    elif mode=='manhattan':\n",
    "        h = np.abs(p[0] - goal[0]) + np.abs(p[1]-goal[1])\n",
    "    else:\n",
    "        h = np.linalg.norm(p - goal)\n",
    "    return h"
   ]
  },
  {
   "cell_type": "markdown",
   "metadata": {},
   "source": [
    "Compute the lowest cost path with `a_star`. "
   ]
  },
  {
   "cell_type": "code",
   "execution_count": 13,
   "metadata": {},
   "outputs": [
    {
     "name": "stdout",
     "output_type": "stream",
     "text": [
      "Found a path.\n",
      "[(25, 100), (26, 100), (27, 100), (28, 100), (29, 100), (30, 100), (31, 100), (32, 100), (33, 100), (34, 100), (35, 100), (36, 100), (37, 100), (38, 100), (39, 100), (40, 100), (41, 100), (42, 100), (43, 100), (44, 100), (45, 100), (46, 100), (47, 100), (48, 100), (49, 100), (50, 100), (51, 100), (52, 100), (53, 100), (54, 100), (55, 100), (56, 100), (57, 100), (58, 100), (59, 100), (60, 100), (61, 100), (62, 100), (63, 100), (64, 100), (65, 100), (66, 100), (67, 100), (68, 100), (69, 100), (70, 100), (71, 100), (72, 100), (73, 100), (74, 100), (75, 100), (76, 100), (77, 100), (78, 100), (79, 100), (80, 100), (81, 100), (82, 100), (83, 100), (84, 100), (85, 100), (86, 100), (87, 100), (88, 100), (89, 100), (90, 100), (91, 100), (92, 100), (93, 100), (94, 100), (95, 100), (96, 100), (97, 100), (98, 100), (99, 100), (100, 100), (101, 100), (102, 100), (103, 100), (104, 100), (105, 100), (106, 100), (107, 100), (108, 100), (109, 100), (110, 100), (111, 100), (112, 100), (113, 100), (114, 100), (115, 100), (116, 100), (117, 100), (118, 100), (119, 100), (120, 100), (121, 100), (122, 100), (123, 100), (124, 100), (125, 100), (126, 100), (127, 100), (128, 100), (129, 100), (130, 100), (131, 100), (132, 100), (133, 100), (134, 100), (135, 100), (136, 100), (137, 100), (138, 100), (139, 100), (140, 100), (141, 100), (142, 100), (143, 100), (144, 100), (145, 100), (146, 100), (146, 101), (146, 102), (146, 103), (146, 104), (146, 105), (146, 106), (146, 107), (146, 108), (146, 109), (146, 110), (146, 111), (146, 112), (146, 113), (146, 114), (146, 115), (146, 116), (146, 117), (146, 118), (146, 119), (146, 120), (146, 121), (146, 122), (146, 123), (146, 124), (146, 125), (146, 126), (146, 127), (146, 128), (146, 129), (146, 130), (146, 131), (146, 132), (146, 133), (146, 134), (147, 134), (148, 134), (149, 134), (150, 134), (151, 134), (152, 134), (153, 134), (154, 134), (155, 134), (156, 134), (156, 135), (156, 136), (156, 137), (156, 138), (156, 139), (156, 140), (156, 141), (156, 142), (156, 143), (156, 144), (156, 145), (156, 146), (156, 147), (156, 148), (156, 149), (156, 150), (156, 151), (156, 152), (156, 153), (156, 154), (156, 155), (156, 156), (156, 157), (156, 158), (156, 159), (156, 160), (156, 161), (156, 162), (156, 163), (156, 164), (156, 165), (156, 166), (156, 167), (156, 168), (156, 169), (156, 170), (156, 171), (156, 172), (156, 173), (156, 174), (156, 175), (156, 176), (156, 177), (156, 178), (156, 179), (156, 180), (156, 181), (156, 182), (156, 183), (156, 184), (156, 185), (156, 186), (156, 187), (156, 188), (156, 189), (156, 190), (156, 191), (156, 192), (156, 193), (156, 194), (157, 194), (158, 194), (159, 194), (160, 194), (161, 194), (162, 194), (163, 194), (164, 194), (165, 194), (166, 194), (167, 194), (168, 194), (169, 194), (170, 194), (171, 194), (172, 194), (173, 194), (174, 194), (175, 194), (176, 194), (177, 194), (178, 194), (179, 194), (180, 194), (181, 194), (182, 194), (183, 194), (184, 194), (185, 194), (186, 194), (187, 194), (188, 194), (189, 194), (190, 194), (191, 194), (192, 194), (193, 194), (194, 194), (195, 194), (196, 194), (197, 194), (198, 194), (199, 194), (200, 194), (201, 194), (202, 194), (203, 194), (204, 194), (205, 194), (206, 194), (207, 194), (208, 194), (209, 194), (210, 194), (211, 194), (212, 194), (213, 194), (214, 194), (215, 194), (216, 194), (217, 194), (218, 194), (219, 194), (220, 194), (221, 194), (222, 194), (223, 194), (224, 194), (225, 194), (226, 194), (227, 194), (228, 194), (229, 194), (230, 194), (231, 194), (232, 194), (233, 194), (234, 194), (235, 194), (236, 194), (237, 194), (238, 194), (239, 194), (240, 194), (241, 194), (242, 194), (243, 194), (244, 194), (245, 194), (246, 194), (247, 194), (248, 194), (249, 194), (250, 194), (251, 194), (252, 194), (253, 194), (254, 194), (255, 194), (256, 194), (257, 194), (258, 194), (259, 194), (260, 194), (261, 194), (262, 194), (263, 194), (264, 194), (265, 194), (266, 194), (267, 194), (268, 194), (269, 194), (270, 194), (271, 194), (272, 194), (273, 194), (274, 194), (275, 194), (276, 194), (277, 194), (278, 194), (279, 194), (280, 194), (281, 194), (282, 194), (283, 194), (284, 194), (285, 194), (286, 194), (287, 194), (288, 194), (289, 194), (290, 194), (291, 194), (292, 194), (293, 194), (294, 194), (295, 194), (296, 194), (296, 195), (296, 196), (296, 197), (296, 198), (296, 199), (296, 200), (296, 201), (296, 202), (296, 203), (296, 204), (296, 205), (296, 206), (296, 207), (296, 208), (296, 209), (296, 210), (296, 211), (296, 212), (296, 213), (296, 214), (297, 214), (298, 214), (299, 214), (300, 214), (301, 214), (302, 214), (303, 214), (304, 214), (305, 214), (306, 214), (306, 215), (306, 216), (306, 217), (306, 218), (306, 219), (306, 220), (306, 221), (306, 222), (306, 223), (306, 224), (306, 225), (306, 226), (306, 227), (306, 228), (306, 229), (306, 230), (306, 231), (306, 232), (306, 233), (306, 234), (306, 235), (306, 236), (306, 237), (306, 238), (306, 239), (306, 240), (306, 241), (306, 242), (306, 243), (306, 244), (306, 245), (306, 246), (306, 247), (306, 248), (306, 249), (306, 250), (306, 251), (306, 252), (306, 253), (306, 254), (306, 255), (306, 256), (306, 257), (306, 258), (306, 259), (306, 260), (306, 261), (306, 262), (306, 263), (306, 264), (306, 265), (306, 266), (306, 267), (306, 268), (306, 269), (306, 270), (306, 271), (306, 272), (306, 273), (306, 274), (306, 275), (306, 276), (306, 277), (306, 278), (306, 279), (306, 280), (306, 281), (306, 282), (306, 283), (306, 284), (306, 285), (306, 286), (306, 287), (306, 288), (306, 289), (306, 290), (306, 291), (306, 292), (306, 293), (306, 294), (306, 295), (306, 296), (306, 297), (306, 298), (306, 299), (306, 300), (306, 301), (306, 302), (306, 303), (306, 304), (307, 304), (308, 304), (309, 304), (310, 304), (311, 304), (312, 304), (313, 304), (314, 304), (315, 304), (316, 304), (317, 304), (318, 304), (319, 304), (320, 304), (321, 304), (322, 304), (323, 304), (324, 304), (325, 304), (326, 304), (327, 304), (328, 304), (329, 304), (330, 304), (331, 304), (332, 304), (333, 304), (334, 304), (335, 304), (336, 304), (337, 304), (338, 304), (339, 304), (340, 304), (341, 304), (342, 304), (343, 304), (344, 304), (345, 304), (346, 304), (347, 304), (348, 304), (349, 304), (350, 304), (351, 304), (352, 304), (353, 304), (354, 304), (355, 304), (356, 304), (357, 304), (358, 304), (359, 304), (360, 304), (361, 304), (362, 304), (363, 304), (364, 304), (365, 304), (366, 304), (367, 304), (368, 304), (369, 304), (370, 304), (371, 304), (372, 304), (373, 304), (374, 304), (375, 304), (376, 304), (377, 304), (378, 304), (379, 304), (380, 304), (381, 304), (382, 304), (383, 304), (384, 304), (385, 304), (386, 304), (387, 304), (388, 304), (389, 304), (390, 304), (391, 304), (392, 304), (393, 304), (394, 304), (395, 304), (396, 304), (397, 304), (398, 304), (399, 304), (400, 304), (401, 304), (402, 304), (403, 304), (404, 304), (405, 304), (406, 304), (407, 304), (408, 304), (409, 304), (410, 304), (411, 304), (412, 304), (413, 304), (414, 304), (415, 304), (416, 304), (417, 304), (418, 304), (419, 304), (420, 304), (421, 304), (422, 304), (423, 304), (424, 304), (425, 304), (426, 304), (427, 304), (428, 304), (429, 304), (430, 304), (431, 304), (432, 304), (433, 304), (434, 304), (435, 304), (436, 304), (437, 304), (438, 304), (439, 304), (440, 304), (441, 304), (442, 304), (443, 304), (444, 304), (445, 304), (446, 304), (447, 304), (448, 304), (449, 304), (450, 304), (451, 304), (452, 304), (453, 304), (454, 304), (455, 304), (456, 304), (456, 305), (456, 306), (456, 307), (456, 308), (456, 309), (456, 310), (456, 311), (456, 312), (456, 313), (456, 314), (456, 315), (456, 316), (456, 317), (456, 318), (456, 319), (456, 320), (456, 321), (456, 322), (456, 323), (456, 324), (456, 325), (456, 326), (456, 327), (456, 328), (456, 329), (456, 330), (456, 331), (456, 332), (456, 333), (456, 334), (456, 335), (456, 336), (456, 337), (456, 338), (456, 339), (456, 340), (456, 341), (456, 342), (456, 343), (456, 344), (456, 345), (456, 346), (456, 347), (456, 348), (456, 349), (456, 350), (456, 351), (456, 352), (456, 353), (456, 354), (457, 354), (458, 354), (459, 354), (460, 354), (461, 354), (462, 354), (463, 354), (464, 354), (465, 354), (466, 354), (467, 354), (468, 354), (469, 354), (470, 354), (471, 354), (472, 354), (473, 354), (474, 354), (475, 354), (476, 354), (477, 354), (478, 354), (479, 354), (480, 354), (481, 354), (482, 354), (483, 354), (484, 354), (485, 354), (486, 354), (487, 354), (488, 354), (489, 354), (490, 354), (491, 354), (492, 354), (493, 354), (494, 354), (495, 354), (496, 354), (497, 354), (498, 354), (499, 354), (500, 354), (501, 354), (502, 354), (503, 354), (504, 354), (505, 354), (506, 354), (507, 354), (508, 354), (509, 354), (510, 354), (511, 354), (512, 354), (513, 354), (514, 354), (515, 354), (516, 354), (517, 354), (518, 354), (519, 354), (520, 354), (521, 354), (522, 354), (523, 354), (524, 354), (525, 354), (526, 354), (527, 354), (528, 354), (529, 354), (530, 354), (531, 354), (532, 354), (533, 354), (534, 354), (535, 354), (536, 354), (537, 354), (538, 354), (539, 354), (540, 354), (541, 354), (542, 354), (543, 354), (544, 354), (545, 354), (546, 354), (547, 354), (548, 354), (549, 354), (550, 354), (551, 354), (552, 354), (553, 354), (554, 354), (555, 354), (556, 354), (557, 354), (558, 354), (559, 354), (560, 354), (561, 354), (562, 354), (563, 354), (564, 354), (565, 354), (566, 354), (567, 354), (568, 354), (569, 354), (570, 354), (571, 354), (572, 354), (573, 354), (574, 354), (575, 354), (576, 354), (577, 354), (578, 354), (579, 354), (580, 354), (581, 354), (582, 354), (583, 354), (584, 354), (585, 354), (586, 354), (587, 354), (588, 354), (589, 354), (590, 354), (591, 354), (592, 354), (593, 354), (594, 354), (595, 354), (596, 354), (596, 355), (596, 356), (596, 357), (596, 358), (596, 359), (596, 360), (596, 361), (596, 362), (596, 363), (596, 364), (596, 365), (596, 366), (596, 367), (596, 368), (596, 369), (596, 370), (596, 371), (596, 372), (596, 373), (596, 374), (596, 375), (596, 376), (596, 377), (596, 378), (596, 379), (596, 380), (596, 381), (596, 382), (596, 383), (596, 384), (597, 384), (598, 384), (599, 384), (600, 384), (601, 384), (602, 384), (603, 384), (604, 384), (605, 384), (606, 384), (607, 384), (608, 384), (609, 384), (610, 384), (611, 384), (612, 384), (613, 384), (614, 384), (615, 384), (616, 384), (617, 384), (618, 384), (619, 384), (620, 384), (621, 384), (622, 384), (623, 384), (624, 384), (625, 384), (626, 384), (627, 384), (628, 384), (629, 384), (630, 384), (631, 384), (632, 384), (633, 384), (634, 384), (635, 384), (636, 384), (637, 384), (638, 384), (639, 384), (640, 384), (641, 384), (642, 384), (643, 384), (644, 384), (645, 384), (646, 384), (647, 384), (648, 384), (649, 384), (650, 384), (651, 384), (652, 384), (653, 384), (654, 384), (655, 384), (656, 384), (657, 384), (658, 384), (659, 384), (660, 384), (661, 384), (662, 384), (663, 384), (664, 384), (665, 384), (666, 384), (667, 384), (668, 384), (669, 384), (670, 384), (671, 384), (672, 384), (673, 384), (674, 384), (675, 384), (676, 384), (677, 384), (678, 384), (679, 384), (680, 384), (681, 384), (682, 384), (683, 384), (684, 384), (685, 384), (686, 384), (687, 384), (688, 384), (689, 384), (690, 384), (691, 384), (692, 384), (693, 384), (694, 384), (695, 384), (696, 384), (697, 384), (698, 384), (699, 384), (700, 384), (701, 384), (702, 384), (703, 384), (704, 384), (705, 384), (706, 384), (707, 384), (708, 384), (709, 384), (710, 384), (711, 384), (712, 384), (713, 384), (714, 384), (715, 384), (716, 384), (717, 384), (718, 384), (719, 384), (720, 384), (721, 384), (722, 384), (723, 384), (724, 384), (725, 384), (726, 384), (727, 384), (728, 384), (729, 384), (730, 384), (731, 384), (732, 384), (733, 384), (734, 384), (735, 384), (736, 384), (736, 383), (737, 383), (737, 382), (738, 382), (738, 381), (739, 381), (739, 380), (740, 380), (740, 379), (741, 379), (741, 378), (742, 378), (742, 377), (743, 377), (743, 376), (744, 376), (744, 375), (745, 375), (745, 374), (746, 374), (746, 373), (747, 373), (747, 372), (748, 372), (748, 371), (749, 371), (749, 370), (750.0, 370.0)] 1023.0\n"
     ]
    }
   ],
   "source": [
    "# TODO: use `a_star` to compute the lowest cost path\n",
    "path, cost = a_star(grid, heuristic, start_ne, goal_ne)\n",
    "print(path, cost)"
   ]
  },
  {
   "cell_type": "markdown",
   "metadata": {},
   "source": [
    "Let's plot the path!"
   ]
  },
  {
   "cell_type": "code",
   "execution_count": 16,
   "metadata": {},
   "outputs": [
    {
     "data": {
      "image/png": "[encoded data removed]",
      "text/plain": [
       "<Figure size 864x864 with 1 Axes>"
      ]
     },
     "metadata": {
      "needs_background": "light"
     },
     "output_type": "display_data"
    }
   ],
   "source": [
    "plt.imshow(grid, cmap='Greys', origin='lower')\n",
    "\n",
    "# For the purposes of the visual the east coordinate lay along\n",
    "# the x-axis and the north coordinates long the y-axis.\n",
    "plt.plot(start_ne[1], start_ne[0], 'x')\n",
    "plt.plot(goal_ne[1], goal_ne[0], 'x')\n",
    "\n",
    "if path is not None:\n",
    "    pp = np.array(path)\n",
    "    plt.plot(pp[:, 1], pp[:, 0], 'g', linewidth=4)\n",
    "\n",
    "plt.xlabel('EAST')\n",
    "plt.ylabel('NORTH')\n",
    "plt.show()"
   ]
  },
  {
   "cell_type": "markdown",
   "metadata": {},
   "source": [
    "Pretty neat! Unfortunately this path is impractical, the drone would be constantly stopping and going since each grid cell visited is synonymous with a waypoint. Ideally, we'd like to only consider a new waypoint when the drone's direction changes. Path pruning is one way to achieve this result."
   ]
  },
  {
   "cell_type": "markdown",
   "metadata": {},
   "source": [
    "### Path Pruning"
   ]
  },
  {
   "cell_type": "code",
   "execution_count": 17,
   "metadata": {},
   "outputs": [],
   "source": [
    "def point(p):\n",
    "    return np.array([p[0], p[1], 1.]).reshape(1, -1)\n",
    "\n",
    "def collinearity_check(p1, p2, p3, epsilon=1e-6):\n",
    "    m = np.concatenate((p1, p2, p3), 0)\n",
    "    det = np.linalg.det(m)\n",
    "    return abs(det) < epsilon"
   ]
  },
  {
   "cell_type": "markdown",
   "metadata": {},
   "source": [
    "Complete the `prune_path` function below. It should return a new path much shorter than the original."
   ]
  },
  {
   "cell_type": "code",
   "execution_count": 2,
   "metadata": {},
   "outputs": [],
   "source": [
    "def prune_path(path):\n",
    "    if path is not None:\n",
    "        pruned_path = [path[0]]\n",
    "        # TODO: prune the path!\n",
    "        for i in range(0, len(path)-2, 2):\n",
    "            p1,p2,p3 = path[i], path[i+1], path[i+2]\n",
    "            if collinearity_check(point(p1),point(p2),point(p3)):\n",
    "                continue\n",
    "            pruned_path.append(p1)\n",
    "            pruned_path.append(p2)\n",
    "            pruned_path.append(p3)\n",
    "    else:\n",
    "        pruned_path = path\n",
    "        \n",
    "    return pruned_path"
   ]
  },
  {
   "cell_type": "markdown",
   "metadata": {},
   "source": [
    "Prune the path."
   ]
  },
  {
   "cell_type": "code",
   "execution_count": 44,
   "metadata": {},
   "outputs": [
    {
     "name": "stdout",
     "output_type": "stream",
     "text": [
      "[(25, 100), (145, 100), (146, 100), (146, 101), (146, 133), (146, 134), (147, 134), (155, 134), (156, 134), (156, 135), (156, 193), (156, 194), (157, 194), (295, 194), (296, 194), (296, 195), (296, 213), (296, 214), (297, 214), (305, 214), (306, 214), (306, 215), (306, 303), (306, 304), (307, 304), (455, 304), (456, 304), (456, 305), (456, 353), (456, 354), (457, 354), (595, 354), (596, 354), (596, 355), (596, 383), (596, 384), (597, 384), (735, 384), (736, 384), (736, 383), (736, 383), (737, 383), (737, 382), (737, 382), (738, 382), (738, 381), (738, 381), (739, 381), (739, 380), (739, 380), (740, 380), (740, 379), (740, 379), (741, 379), (741, 378), (741, 378), (742, 378), (742, 377), (742, 377), (743, 377), (743, 376), (743, 376), (744, 376), (744, 375), (744, 375), (745, 375), (745, 374), (745, 374), (746, 374), (746, 373), (746, 373), (747, 373), (747, 372), (747, 372), (748, 372), (748, 371), (748, 371), (749, 371), (749, 370)]\n"
     ]
    }
   ],
   "source": [
    "pruned_path = prune_path(path)\n",
    "print(pruned_path)"
   ]
  },
  {
   "cell_type": "markdown",
   "metadata": {},
   "source": [
    "Replot the path, it will be the same as before but the drone flight will be much smoother."
   ]
  },
  {
   "cell_type": "code",
   "execution_count": 45,
   "metadata": {},
   "outputs": [
    {
     "data": {
      "image/png": "[encoded data removed]",
      "text/plain": [
       "<Figure size 864x864 with 1 Axes>"
      ]
     },
     "metadata": {
      "needs_background": "light"
     },
     "output_type": "display_data"
    }
   ],
   "source": [
    "plt.imshow(grid, cmap='Greys', origin='lower')\n",
    "\n",
    "plt.plot(start_ne[1], start_ne[0], 'x')\n",
    "plt.plot(goal_ne[1], goal_ne[0], 'x')\n",
    "\n",
    "if pruned_path is not None:\n",
    "    pp = np.array(pruned_path)\n",
    "    plt.plot(pp[:, 1], pp[:, 0], 'g')\n",
    "    plt.scatter(pp[:, 1], pp[:, 0])\n",
    "\n",
    "plt.xlabel('EAST')\n",
    "plt.ylabel('NORTH')\n",
    "\n",
    "plt.show()"
   ]
  },
  {
   "cell_type": "markdown",
   "metadata": {},
   "source": [
    "Now the waypoints symbolize a change in direction, much better!"
   ]
  },
  {
   "cell_type": "code",
   "execution_count": 47,
   "metadata": {},
   "outputs": [
    {
     "data": {
      "text/plain": [
       "(1024, 79)"
      ]
     },
     "execution_count": 47,
     "metadata": {},
     "output_type": "execute_result"
    }
   ],
   "source": [
    "len(path), len(pruned_path)"
   ]
  }
 ],
 "metadata": {
  "kernelspec": {
   "display_name": "Python 3",
   "language": "python",
   "name": "python3"
  },
  "language_info": {
   "codemirror_mode": {
    "name": "ipython",
    "version": 3
   },
   "file_extension": ".py",
   "mimetype": "text/x-python",
   "name": "python",
   "nbconvert_exporter": "python",
   "pygments_lexer": "ipython3",
   "version": "3.6.3"
  }
 },
 "nbformat": 4,
 "nbformat_minor": 2
}
